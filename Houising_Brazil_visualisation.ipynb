{
 "cells": [
  {
   "cell_type": "code",
   "execution_count": 7,
   "id": "7fe56ad7",
   "metadata": {},
   "outputs": [],
   "source": [
    "# Import Matplotlib, pandas, and plotly\n",
    "import matplotlib.pyplot as plt\n",
    "import pandas as pd\n",
    "import plotly.express as px"
   ]
  },
  {
   "cell_type": "code",
   "execution_count": null,
   "id": "b446ce2d",
   "metadata": {},
   "outputs": [],
   "source": [
    "df1 = pd.read_csv('data/brasil-real-estate-1.csv')\n",
    "df1.head()"
   ]
  },
  {
   "cell_type": "code",
   "execution_count": null,
   "id": "788833c6",
   "metadata": {},
   "outputs": [],
   "source": [
    "df1.info()"
   ]
  },
  {
   "cell_type": "code",
   "execution_count": null,
   "id": "e3f93eb0",
   "metadata": {},
   "outputs": [],
   "source": [
    "df1.dropna(inplace=True)"
   ]
  },
  {
   "cell_type": "code",
   "execution_count": null,
   "id": "fe543d3d",
   "metadata": {},
   "outputs": [],
   "source": [
    "df1.shape"
   ]
  },
  {
   "cell_type": "code",
   "execution_count": null,
   "id": "74de9cca",
   "metadata": {},
   "outputs": [],
   "source": [
    "#Use the \"lat-lon\" column to create two separate columns in df1: \"lat\" and \"lon\"\n",
    "df1[['lat','lon']]=df1['lat-lon'].str.split(',',expand=True).astype(float)\n",
    "df1.info()"
   ]
  },
  {
   "cell_type": "code",
   "execution_count": null,
   "id": "035c8c31",
   "metadata": {},
   "outputs": [],
   "source": [
    "#Use the \"place_with_parent_names\" column to create a \"state\" column for df1\n",
    "df1['state']=df1['place_with_parent_names'].str.split('|',expand=True)[2]\n",
    "df1.shape"
   ]
  },
  {
   "cell_type": "code",
   "execution_count": null,
   "id": "c7b675fe",
   "metadata": {},
   "outputs": [],
   "source": [
    "#Transform the \"price_usd\" column of df1 so that all values are floating-point numbers instead of strings.\n",
    "df1['price_usd']=df1['price_usd'].str.replace('$','').str.replace(',','').astype(float)\n",
    "df1.info()"
   ]
  },
  {
   "cell_type": "code",
   "execution_count": null,
   "id": "0e979672",
   "metadata": {},
   "outputs": [],
   "source": [
    "#Drop the \"lat-lon\" and \"place_with_parent_names\" columns from df1\n",
    "df1.drop(['lat-lon'],inplace=True,axis=1)\n",
    "df1.drop(['place_with_parent_names'],inplace=True,axis=1)"
   ]
  },
  {
   "cell_type": "code",
   "execution_count": null,
   "id": "48a9f90b",
   "metadata": {},
   "outputs": [],
   "source": [
    "#scatter plot\n",
    "fig = px.scatter_mapbox(\n",
    "    df,\n",
    "    lat='lat',\n",
    "    lon='lon',\n",
    "    center={\"lat\": -14.2, \"lon\": -51.9},  # Map will be centered on Brazil\n",
    "    width=600,\n",
    "    height=600,\n",
    "    hover_data=[\"price_usd\"],  # Display price when hovering mouse over house\n",
    ")"
   ]
  },
  {
   "cell_type": "code",
   "execution_count": null,
   "id": "6532ca7a",
   "metadata": {},
   "outputs": [],
   "source": [
    "#statistics info\n",
    "df[['area_m2', 'price_usd']].describe()"
   ]
  },
  {
   "cell_type": "code",
   "execution_count": null,
   "id": "69e46676",
   "metadata": {},
   "outputs": [],
   "source": [
    "# Build histogram\n",
    "plt.hist(df['price_usd'])\n",
    "\n",
    "\n",
    "# Label axes\n",
    "plt.xlabel('Price [USD]')\n",
    "plt.ylabel('Frequency')\n",
    "\n",
    "# Add title\n",
    "\n",
    "plt.title('Distribution of Home Prices')"
   ]
  },
  {
   "cell_type": "code",
   "execution_count": null,
   "id": "2ed5c82e",
   "metadata": {},
   "outputs": [],
   "source": [
    "# Build box plot\n",
    "plt.boxplot(df['area_m2'],  vert=False)\n",
    "\n",
    "\n",
    "# Label x-axis\n",
    "plt.xlabel('Area [sd meters]')\n",
    "\n",
    "# Add title\n",
    "plt.title('Distribution of Home Sizes')\n"
   ]
  },
  {
   "cell_type": "code",
   "execution_count": null,
   "id": "2565b444",
   "metadata": {},
   "outputs": [],
   "source": [
    "# Build bar chart, label axes, add title\n",
    "mean_price_by_region.plot(kind='bar', \n",
    "                          xlabel='Region', \n",
    "                          ylabel='Mean Price [USD]', \n",
    "                          title='Mean Home Price by Region')"
   ]
  },
  {
   "cell_type": "code",
   "execution_count": null,
   "id": "57a56adb",
   "metadata": {},
   "outputs": [],
   "source": []
  },
  {
   "cell_type": "code",
   "execution_count": null,
   "id": "12f458b7",
   "metadata": {},
   "outputs": [],
   "source": []
  },
  {
   "cell_type": "code",
   "execution_count": null,
   "id": "4bd5dd78",
   "metadata": {},
   "outputs": [],
   "source": []
  }
 ],
 "metadata": {
  "kernelspec": {
   "display_name": "Python 3 (ipykernel)",
   "language": "python",
   "name": "python3"
  },
  "language_info": {
   "codemirror_mode": {
    "name": "ipython",
    "version": 3
   },
   "file_extension": ".py",
   "mimetype": "text/x-python",
   "name": "python",
   "nbconvert_exporter": "python",
   "pygments_lexer": "ipython3",
   "version": "3.9.12"
  }
 },
 "nbformat": 4,
 "nbformat_minor": 5
}
